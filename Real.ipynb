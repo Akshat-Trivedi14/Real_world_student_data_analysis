{
 "cells": [
  {
   "cell_type": "code",
   "execution_count": 89,
   "metadata": {},
   "outputs": [],
   "source": [
    "import pandas as pd\n",
    "import numpy as np  \n",
    "import matplotlib.pyplot as plt\n",
    "import seaborn as sns\n"
   ]
  },
  {
   "cell_type": "code",
   "execution_count": 208,
   "metadata": {},
   "outputs": [],
   "source": [
    "df = pd.read_csv('Datanew.csv')"
   ]
  },
  {
   "cell_type": "code",
   "execution_count": 209,
   "metadata": {},
   "outputs": [
    {
     "name": "stdout",
     "output_type": "stream",
     "text": [
      "<class 'pandas.core.frame.DataFrame'>\n",
      "RangeIndex: 58 entries, 0 to 57\n",
      "Data columns (total 10 columns):\n",
      " #   Column                                                                                                                                    Non-Null Count  Dtype \n",
      "---  ------                                                                                                                                    --------------  ----- \n",
      " 0   Timestamp                                                                                                                                 58 non-null     object\n",
      " 1   Age in years (round off to nearest integer).  No Units should be entered. Only the number                                                 58 non-null     object\n",
      " 2   Weight (In Kg, round off to nearest integer) No Units should be entered. Only the number                                                  58 non-null     object\n",
      " 3   Height (In Inches. Round off to nearest integer).  No Units should be entered. Only the number                                            57 non-null     object\n",
      " 4   Gender                                                                                                                                    57 non-null     object\n",
      " 5   Write a paragraph on the qualities of a good student. (Minimum 50 words, maximum 100 words)                                               53 non-null     object\n",
      " 6   Distance between your hometown and college.   (In Kilometer. Round off to nearest integer).  No Units should be entered. Only the number  57 non-null     object\n",
      " 7   Time taken to reach college from your hometown. (In Hours. Round off to nearest integer).  No Units should be entered. Only the number    58 non-null     object\n",
      " 8   District in which your hometown is                                                                                                        58 non-null     object\n",
      " 9   State in which your hometown is                                                                                                           58 non-null     object\n",
      "dtypes: object(10)\n",
      "memory usage: 4.7+ KB\n"
     ]
    }
   ],
   "source": [
    "df.info()"
   ]
  },
  {
   "cell_type": "code",
   "execution_count": 210,
   "metadata": {},
   "outputs": [
    {
     "data": {
      "text/html": [
       "<div>\n",
       "<style scoped>\n",
       "    .dataframe tbody tr th:only-of-type {\n",
       "        vertical-align: middle;\n",
       "    }\n",
       "\n",
       "    .dataframe tbody tr th {\n",
       "        vertical-align: top;\n",
       "    }\n",
       "\n",
       "    .dataframe thead th {\n",
       "        text-align: right;\n",
       "    }\n",
       "</style>\n",
       "<table border=\"1\" class=\"dataframe\">\n",
       "  <thead>\n",
       "    <tr style=\"text-align: right;\">\n",
       "      <th></th>\n",
       "      <th>Timestamp</th>\n",
       "      <th>Age in years (round off to nearest integer).  No Units should be entered. Only the number</th>\n",
       "      <th>Weight (In Kg, round off to nearest integer) No Units should be entered. Only the number</th>\n",
       "      <th>Height (In Inches. Round off to nearest integer).  No Units should be entered. Only the number</th>\n",
       "      <th>Gender</th>\n",
       "      <th>Write a paragraph on the qualities of a good student. (Minimum 50 words, maximum 100 words)</th>\n",
       "      <th>Distance between your hometown and college.   (In Kilometer. Round off to nearest integer).  No Units should be entered. Only the number</th>\n",
       "      <th>Time taken to reach college from your hometown. (In Hours. Round off to nearest integer).  No Units should be entered. Only the number</th>\n",
       "      <th>District in which your hometown is</th>\n",
       "      <th>State in which your hometown is</th>\n",
       "    </tr>\n",
       "  </thead>\n",
       "  <tbody>\n",
       "    <tr>\n",
       "      <th>0</th>\n",
       "      <td>3/26/2025 16:17:02</td>\n",
       "      <td>21</td>\n",
       "      <td>60</td>\n",
       "      <td>5'3</td>\n",
       "      <td>Female</td>\n",
       "      <td>A excellent student demonstrates attributes su...</td>\n",
       "      <td>1800km</td>\n",
       "      <td>74 hrs</td>\n",
       "      <td>Kamrup(M)</td>\n",
       "      <td>Assam</td>\n",
       "    </tr>\n",
       "    <tr>\n",
       "      <th>1</th>\n",
       "      <td>3/26/2025 16:18:53</td>\n",
       "      <td>37</td>\n",
       "      <td>101</td>\n",
       "      <td>70</td>\n",
       "      <td>Male</td>\n",
       "      <td>NaN</td>\n",
       "      <td>7</td>\n",
       "      <td>0.25</td>\n",
       "      <td>Durg</td>\n",
       "      <td>Chhattisgarh</td>\n",
       "    </tr>\n",
       "    <tr>\n",
       "      <th>2</th>\n",
       "      <td>3/26/2025 16:22:28</td>\n",
       "      <td>20</td>\n",
       "      <td>65</td>\n",
       "      <td>5.9</td>\n",
       "      <td>Male</td>\n",
       "      <td>A good student is disciplined, hardworking and...</td>\n",
       "      <td>250km</td>\n",
       "      <td>6 hours</td>\n",
       "      <td>Kanker</td>\n",
       "      <td>Chhattisgarh</td>\n",
       "    </tr>\n",
       "    <tr>\n",
       "      <th>3</th>\n",
       "      <td>3/26/2025 16:23:06</td>\n",
       "      <td>24</td>\n",
       "      <td>69</td>\n",
       "      <td>5.9</td>\n",
       "      <td>Male</td>\n",
       "      <td>Good students should be disciplined, Attentive...</td>\n",
       "      <td>1100</td>\n",
       "      <td>26 hrs</td>\n",
       "      <td>Patna</td>\n",
       "      <td>Bihar</td>\n",
       "    </tr>\n",
       "    <tr>\n",
       "      <th>4</th>\n",
       "      <td>3/26/2025 16:26:11</td>\n",
       "      <td>21</td>\n",
       "      <td>65</td>\n",
       "      <td>170</td>\n",
       "      <td>Male</td>\n",
       "      <td>A good student is disciplined, curious, and ha...</td>\n",
       "      <td>741km</td>\n",
       "      <td>19hrs</td>\n",
       "      <td>West Singhbhum</td>\n",
       "      <td>Jharkhand</td>\n",
       "    </tr>\n",
       "  </tbody>\n",
       "</table>\n",
       "</div>"
      ],
      "text/plain": [
       "            Timestamp  \\\n",
       "0  3/26/2025 16:17:02   \n",
       "1  3/26/2025 16:18:53   \n",
       "2  3/26/2025 16:22:28   \n",
       "3  3/26/2025 16:23:06   \n",
       "4  3/26/2025 16:26:11   \n",
       "\n",
       "  Age in years (round off to nearest integer).  No Units should be entered. Only the number  \\\n",
       "0                                                 21                                          \n",
       "1                                                 37                                          \n",
       "2                                                 20                                          \n",
       "3                                                 24                                          \n",
       "4                                                 21                                          \n",
       "\n",
       "  Weight (In Kg, round off to nearest integer) No Units should be entered. Only the number  \\\n",
       "0                                                 60                                         \n",
       "1                                                101                                         \n",
       "2                                                 65                                         \n",
       "3                                                 69                                         \n",
       "4                                                 65                                         \n",
       "\n",
       "  Height (In Inches. Round off to nearest integer).  No Units should be entered. Only the number  \\\n",
       "0                                                5'3                                               \n",
       "1                                                 70                                               \n",
       "2                                                5.9                                               \n",
       "3                                                5.9                                               \n",
       "4                                                170                                               \n",
       "\n",
       "   Gender  \\\n",
       "0  Female   \n",
       "1    Male   \n",
       "2    Male   \n",
       "3    Male   \n",
       "4    Male   \n",
       "\n",
       "  Write a paragraph on the qualities of a good student. (Minimum 50 words, maximum 100 words)  \\\n",
       "0  A excellent student demonstrates attributes su...                                            \n",
       "1                                                NaN                                            \n",
       "2  A good student is disciplined, hardworking and...                                            \n",
       "3  Good students should be disciplined, Attentive...                                            \n",
       "4  A good student is disciplined, curious, and ha...                                            \n",
       "\n",
       "  Distance between your hometown and college.   (In Kilometer. Round off to nearest integer).  No Units should be entered. Only the number  \\\n",
       "0                                             1800km                                                                                         \n",
       "1                                                  7                                                                                         \n",
       "2                                              250km                                                                                         \n",
       "3                                               1100                                                                                         \n",
       "4                                              741km                                                                                         \n",
       "\n",
       "  Time taken to reach college from your hometown. (In Hours. Round off to nearest integer).  No Units should be entered. Only the number  \\\n",
       "0                                             74 hrs                                                                                       \n",
       "1                                               0.25                                                                                       \n",
       "2                                           6 hours                                                                                        \n",
       "3                                             26 hrs                                                                                       \n",
       "4                                              19hrs                                                                                       \n",
       "\n",
       "  District in which your hometown is  State in which your hometown is   \n",
       "0                           Kamrup(M)                            Assam  \n",
       "1                                Durg                    Chhattisgarh   \n",
       "2                              Kanker                     Chhattisgarh  \n",
       "3                              Patna                            Bihar   \n",
       "4                     West Singhbhum                        Jharkhand   "
      ]
     },
     "execution_count": 210,
     "metadata": {},
     "output_type": "execute_result"
    }
   ],
   "source": [
    "df.head()"
   ]
  },
  {
   "cell_type": "code",
   "execution_count": 211,
   "metadata": {},
   "outputs": [
    {
     "data": {
      "text/html": [
       "<div>\n",
       "<style scoped>\n",
       "    .dataframe tbody tr th:only-of-type {\n",
       "        vertical-align: middle;\n",
       "    }\n",
       "\n",
       "    .dataframe tbody tr th {\n",
       "        vertical-align: top;\n",
       "    }\n",
       "\n",
       "    .dataframe thead th {\n",
       "        text-align: right;\n",
       "    }\n",
       "</style>\n",
       "<table border=\"1\" class=\"dataframe\">\n",
       "  <thead>\n",
       "    <tr style=\"text-align: right;\">\n",
       "      <th></th>\n",
       "      <th>Timestamp</th>\n",
       "      <th>Age in years (round off to nearest integer).  No Units should be entered. Only the number</th>\n",
       "      <th>Weight (In Kg, round off to nearest integer) No Units should be entered. Only the number</th>\n",
       "      <th>Height (In Inches. Round off to nearest integer).  No Units should be entered. Only the number</th>\n",
       "      <th>Gender</th>\n",
       "      <th>Write a paragraph on the qualities of a good student. (Minimum 50 words, maximum 100 words)</th>\n",
       "      <th>Distance between your hometown and college.   (In Kilometer. Round off to nearest integer).  No Units should be entered. Only the number</th>\n",
       "      <th>Time taken to reach college from your hometown. (In Hours. Round off to nearest integer).  No Units should be entered. Only the number</th>\n",
       "      <th>District in which your hometown is</th>\n",
       "      <th>State in which your hometown is</th>\n",
       "    </tr>\n",
       "  </thead>\n",
       "  <tbody>\n",
       "    <tr>\n",
       "      <th>count</th>\n",
       "      <td>58</td>\n",
       "      <td>58</td>\n",
       "      <td>58</td>\n",
       "      <td>57</td>\n",
       "      <td>57</td>\n",
       "      <td>53</td>\n",
       "      <td>57</td>\n",
       "      <td>58</td>\n",
       "      <td>58</td>\n",
       "      <td>58</td>\n",
       "    </tr>\n",
       "    <tr>\n",
       "      <th>unique</th>\n",
       "      <td>58</td>\n",
       "      <td>16</td>\n",
       "      <td>29</td>\n",
       "      <td>39</td>\n",
       "      <td>2</td>\n",
       "      <td>53</td>\n",
       "      <td>47</td>\n",
       "      <td>45</td>\n",
       "      <td>37</td>\n",
       "      <td>18</td>\n",
       "    </tr>\n",
       "    <tr>\n",
       "      <th>top</th>\n",
       "      <td>3/26/2025 16:17:02</td>\n",
       "      <td>20</td>\n",
       "      <td>60</td>\n",
       "      <td>72</td>\n",
       "      <td>Male</td>\n",
       "      <td>A excellent student demonstrates attributes su...</td>\n",
       "      <td>20</td>\n",
       "      <td>10</td>\n",
       "      <td>Durg</td>\n",
       "      <td>Chhattisgarh</td>\n",
       "    </tr>\n",
       "    <tr>\n",
       "      <th>freq</th>\n",
       "      <td>1</td>\n",
       "      <td>20</td>\n",
       "      <td>9</td>\n",
       "      <td>5</td>\n",
       "      <td>41</td>\n",
       "      <td>1</td>\n",
       "      <td>3</td>\n",
       "      <td>5</td>\n",
       "      <td>16</td>\n",
       "      <td>15</td>\n",
       "    </tr>\n",
       "  </tbody>\n",
       "</table>\n",
       "</div>"
      ],
      "text/plain": [
       "                 Timestamp  \\\n",
       "count                   58   \n",
       "unique                  58   \n",
       "top     3/26/2025 16:17:02   \n",
       "freq                     1   \n",
       "\n",
       "       Age in years (round off to nearest integer).  No Units should be entered. Only the number  \\\n",
       "count                                                  58                                          \n",
       "unique                                                 16                                          \n",
       "top                                                    20                                          \n",
       "freq                                                   20                                          \n",
       "\n",
       "       Weight (In Kg, round off to nearest integer) No Units should be entered. Only the number  \\\n",
       "count                                                  58                                         \n",
       "unique                                                 29                                         \n",
       "top                                                    60                                         \n",
       "freq                                                    9                                         \n",
       "\n",
       "       Height (In Inches. Round off to nearest integer).  No Units should be entered. Only the number  \\\n",
       "count                                                  57                                               \n",
       "unique                                                 39                                               \n",
       "top                                                    72                                               \n",
       "freq                                                    5                                               \n",
       "\n",
       "       Gender  \\\n",
       "count      57   \n",
       "unique      2   \n",
       "top      Male   \n",
       "freq       41   \n",
       "\n",
       "       Write a paragraph on the qualities of a good student. (Minimum 50 words, maximum 100 words)  \\\n",
       "count                                                  53                                            \n",
       "unique                                                 53                                            \n",
       "top     A excellent student demonstrates attributes su...                                            \n",
       "freq                                                    1                                            \n",
       "\n",
       "       Distance between your hometown and college.   (In Kilometer. Round off to nearest integer).  No Units should be entered. Only the number  \\\n",
       "count                                                  57                                                                                         \n",
       "unique                                                 47                                                                                         \n",
       "top                                                    20                                                                                         \n",
       "freq                                                    3                                                                                         \n",
       "\n",
       "       Time taken to reach college from your hometown. (In Hours. Round off to nearest integer).  No Units should be entered. Only the number  \\\n",
       "count                                                  58                                                                                       \n",
       "unique                                                 45                                                                                       \n",
       "top                                                    10                                                                                       \n",
       "freq                                                    5                                                                                       \n",
       "\n",
       "       District in which your hometown is  State in which your hometown is   \n",
       "count                                   58                               58  \n",
       "unique                                  37                               18  \n",
       "top                                   Durg                    Chhattisgarh   \n",
       "freq                                    16                               15  "
      ]
     },
     "execution_count": 211,
     "metadata": {},
     "output_type": "execute_result"
    }
   ],
   "source": [
    "df.describe()"
   ]
  },
  {
   "cell_type": "code",
   "execution_count": 212,
   "metadata": {},
   "outputs": [
    {
     "name": "stdout",
     "output_type": "stream",
     "text": [
      "Index(['Timestamp', 'Age', 'Weight', 'Height', 'Gender',\n",
      "       'Write a paragraph on the qualities of a good student. (Minimum 50 words, maximum 100 words)',\n",
      "       'Distance', 'Travel_Time', 'District in which your hometown is ',\n",
      "       'State in which your hometown is '],\n",
      "      dtype='object')\n"
     ]
    }
   ],
   "source": [
    "df.rename(columns={\n",
    "    'Age in years (round off to nearest integer).  No Units should be entered. Only the number': 'Age',\n",
    "    'Weight (In Kg, round off to nearest integer) No Units should be entered. Only the number': 'Weight',\n",
    "    'Height (In Inches. Round off to nearest integer).  No Units should be entered. Only the number': 'Height',\n",
    "    'Distance between your hometown and college.   (In Kilometer. Round off to nearest integer).  No Units should be entered. Only the number': 'Distance',\n",
    "    'Time taken to reach college from your hometown. (In Hours. Round off to nearest integer).  No Units should be entered. Only the number': 'Travel_Time',\n",
    "    'District in which your hometown is': 'District',\n",
    "    'State in which your hometown is': 'State',\n",
    "}, inplace=True)\n",
    "\n",
    "print(df.columns) \n"
   ]
  },
  {
   "cell_type": "code",
   "execution_count": 213,
   "metadata": {},
   "outputs": [],
   "source": [
    "df.rename(columns ={\"Write a paragraph on the qualities of a good student. (Minimum 50 words, maximum 100 words)\":\"Qualities_of_a_good_student\"}, inplace = True)"
   ]
  },
  {
   "cell_type": "code",
   "execution_count": 214,
   "metadata": {},
   "outputs": [
    {
     "data": {
      "text/plain": [
       "Timestamp                              0\n",
       "Age                                    0\n",
       "Weight                                 0\n",
       "Height                                 1\n",
       "Gender                                 1\n",
       "Qualities_of_a_good_student            5\n",
       "Distance                               1\n",
       "Travel_Time                            0\n",
       "District in which your hometown is     0\n",
       "State in which your hometown is        0\n",
       "dtype: int64"
      ]
     },
     "execution_count": 214,
     "metadata": {},
     "output_type": "execute_result"
    }
   ],
   "source": [
    "df.isnull().sum()"
   ]
  },
  {
   "cell_type": "code",
   "execution_count": 215,
   "metadata": {},
   "outputs": [],
   "source": [
    "df.dropna(inplace=True)  #Dropped the rows with missing values as there quantity is very less"
   ]
  },
  {
   "cell_type": "code",
   "execution_count": 216,
   "metadata": {},
   "outputs": [
    {
     "name": "stdout",
     "output_type": "stream",
     "text": [
      "<class 'pandas.core.frame.DataFrame'>\n",
      "Index: 51 entries, 0 to 57\n",
      "Data columns (total 10 columns):\n",
      " #   Column                               Non-Null Count  Dtype \n",
      "---  ------                               --------------  ----- \n",
      " 0   Timestamp                            51 non-null     object\n",
      " 1   Age                                  51 non-null     object\n",
      " 2   Weight                               51 non-null     object\n",
      " 3   Height                               51 non-null     object\n",
      " 4   Gender                               51 non-null     object\n",
      " 5   Qualities_of_a_good_student          51 non-null     object\n",
      " 6   Distance                             51 non-null     object\n",
      " 7   Travel_Time                          51 non-null     object\n",
      " 8   District in which your hometown is   51 non-null     object\n",
      " 9   State in which your hometown is      51 non-null     object\n",
      "dtypes: object(10)\n",
      "memory usage: 4.4+ KB\n"
     ]
    }
   ],
   "source": [
    "df.info()"
   ]
  },
  {
   "cell_type": "code",
   "execution_count": 217,
   "metadata": {},
   "outputs": [],
   "source": [
    "num_cols  = [\"Age\", \"Weight\", \"Height\", \"Distance\", \"Travel_Time\"]\n",
    "df[num_cols] = df[num_cols].apply(pd.to_numeric , errors = \"coerce\") #forces invalid values to become NaN  instead of raising an error"
   ]
  },
  {
   "cell_type": "code",
   "execution_count": 218,
   "metadata": {},
   "outputs": [
    {
     "data": {
      "text/plain": [
       "Timestamp                               object\n",
       "Age                                    float64\n",
       "Weight                                 float64\n",
       "Height                                 float64\n",
       "Gender                                  object\n",
       "Qualities_of_a_good_student             object\n",
       "Distance                               float64\n",
       "Travel_Time                            float64\n",
       "District in which your hometown is      object\n",
       "State in which your hometown is         object\n",
       "dtype: object"
      ]
     },
     "execution_count": 218,
     "metadata": {},
     "output_type": "execute_result"
    }
   ],
   "source": [
    "df.dtypes"
   ]
  },
  {
   "cell_type": "code",
   "execution_count": 219,
   "metadata": {},
   "outputs": [],
   "source": [
    "height = df[\"Height\"]"
   ]
  },
  {
   "cell_type": "code",
   "execution_count": 220,
   "metadata": {},
   "outputs": [],
   "source": [
    "height = height.apply(lambda x: x / 2.5 if x > 100 else (x * 12.5 if x < 6 else x))\n"
   ]
  },
  {
   "cell_type": "code",
   "execution_count": 221,
   "metadata": {},
   "outputs": [],
   "source": [
    "height.dropna(inplace=True)"
   ]
  },
  {
   "cell_type": "code",
   "execution_count": 222,
   "metadata": {},
   "outputs": [],
   "source": [
    "height = height[height >= 30]  #Remove outliners"
   ]
  },
  {
   "cell_type": "markdown",
   "metadata": {},
   "source": [
    "Weight to Height Comparision"
   ]
  },
  {
   "cell_type": "code",
   "execution_count": 223,
   "metadata": {},
   "outputs": [
    {
     "data": {
      "image/png": "[encoded data removed]",
      "text/plain": [
       "<Figure size 640x480 with 1 Axes>"
      ]
     },
     "metadata": {},
     "output_type": "display_data"
    }
   ],
   "source": [
    "\n",
    "sns.scatterplot(x=height, y=df[\"Weight\"], alpha=0.7, s=60, color=\"blue\", ec=\"black\")\n",
    "\n",
    "\n",
    "plt.xlabel(\"Height (cm)\")\n",
    "plt.ylabel(\"Weight (kg)\")\n",
    "plt.title(\"Height vs. Weight Scatter Plot\")\n",
    "\n",
    "\n",
    "plt.grid(True, ls=\"--\", alpha=0.5)\n",
    "\n",
    "\n",
    "plt.show()\n"
   ]
  },
  {
   "cell_type": "code",
   "execution_count": 224,
   "metadata": {},
   "outputs": [
    {
     "data": {
      "text/plain": [
       "<Axes: xlabel='Age', ylabel='Count'>"
      ]
     },
     "execution_count": 224,
     "metadata": {},
     "output_type": "execute_result"
    },
    {
     "data": {
      "image/png": "[encoded data removed]",
      "text/plain": [
       "<Figure size 640x480 with 1 Axes>"
      ]
     },
     "metadata": {},
     "output_type": "display_data"
    }
   ],
   "source": [
    "sns.histplot(df[\"Age\"])"
   ]
  },
  {
   "cell_type": "code",
   "execution_count": 225,
   "metadata": {},
   "outputs": [],
   "source": [
    "age = df[\"Age\"][(df[\"Age\"] < 30) & (df[\"Age\"] > 10)] #Removing outliers\n"
   ]
  },
  {
   "cell_type": "code",
   "execution_count": 226,
   "metadata": {},
   "outputs": [
    {
     "data": {
      "text/plain": [
       "<Axes: xlabel='Age', ylabel='Count'>"
      ]
     },
     "execution_count": 226,
     "metadata": {},
     "output_type": "execute_result"
    },
    {
     "data": {
      "image/png": "[encoded data removed]",
      "text/plain": [
       "<Figure size 640x480 with 1 Axes>"
      ]
     },
     "metadata": {},
     "output_type": "display_data"
    }
   ],
   "source": [
    "sns.histplot(age)"
   ]
  },
  {
   "cell_type": "code",
   "execution_count": 227,
   "metadata": {},
   "outputs": [
    {
     "data": {
      "text/plain": [
       "count    45.00000\n",
       "mean     20.80000\n",
       "std       1.47093\n",
       "min      18.00000\n",
       "25%      20.00000\n",
       "50%      21.00000\n",
       "75%      21.00000\n",
       "max      27.00000\n",
       "Name: Age, dtype: float64"
      ]
     },
     "execution_count": 227,
     "metadata": {},
     "output_type": "execute_result"
    }
   ],
   "source": [
    "age.describe()"
   ]
  },
  {
   "cell_type": "markdown",
   "metadata": {},
   "source": [
    "Average age is 20"
   ]
  },
  {
   "cell_type": "code",
   "execution_count": 228,
   "metadata": {},
   "outputs": [
    {
     "data": {
      "text/plain": [
       "<Axes: xlabel='Gender', ylabel='Height'>"
      ]
     },
     "execution_count": 228,
     "metadata": {},
     "output_type": "execute_result"
    },
    {
     "data": {
      "image/png": "[encoded data removed]",
      "text/plain": [
       "<Figure size 640x480 with 1 Axes>"
      ]
     },
     "metadata": {},
     "output_type": "display_data"
    }
   ],
   "source": [
    "sns.scatterplot(x = \"Gender\", y = height,data = df)"
   ]
  },
  {
   "cell_type": "code",
   "execution_count": 229,
   "metadata": {},
   "outputs": [],
   "source": [
    "df.columns = df.columns.str.strip()  # Removes leading/trailing spaces\n"
   ]
  },
  {
   "cell_type": "code",
   "execution_count": 230,
   "metadata": {},
   "outputs": [
    {
     "name": "stdout",
     "output_type": "stream",
     "text": [
      "['Timestamp', 'Age', 'Weight', 'Height', 'Gender', 'Qualities_of_a_good_student', 'Distance', 'Travel_Time', 'District in which your hometown is', 'State in which your hometown is']\n"
     ]
    }
   ],
   "source": [
    "print(df.columns.tolist())  # See all column names\n"
   ]
  },
  {
   "cell_type": "code",
   "execution_count": 231,
   "metadata": {},
   "outputs": [],
   "source": [
    "df.columns = df.columns.str.strip()  # Remove leading/trailing spaces\n"
   ]
  },
  {
   "cell_type": "code",
   "execution_count": 232,
   "metadata": {},
   "outputs": [
    {
     "name": "stdout",
     "output_type": "stream",
     "text": [
      "Index(['Timestamp', 'Age', 'Weight', 'Height', 'Gender',\n",
      "       'Qualities_of_a_good_student', 'Distance', 'Travel_Time',\n",
      "       'District in which your hometown is',\n",
      "       'State in which your hometown is'],\n",
      "      dtype='object')\n"
     ]
    }
   ],
   "source": [
    "print(df.columns)  # Show exact column names\n"
   ]
  },
  {
   "cell_type": "markdown",
   "metadata": {},
   "source": [
    "Found that there is still confusion in the spelling of state in both boys and girls"
   ]
  },
  {
   "cell_type": "code",
   "execution_count": 233,
   "metadata": {},
   "outputs": [
    {
     "data": {
      "text/plain": [
       "<Axes: xlabel='Distance', ylabel='Travel_Time'>"
      ]
     },
     "execution_count": 233,
     "metadata": {},
     "output_type": "execute_result"
    },
    {
     "data": {
      "image/png": "[encoded data removed]",
      "text/plain": [
       "<Figure size 640x480 with 1 Axes>"
      ]
     },
     "metadata": {},
     "output_type": "display_data"
    }
   ],
   "source": [
    "sns.scatterplot(data=df, x=\"Distance\", y=\"Travel_Time\")"
   ]
  },
  {
   "cell_type": "code",
   "execution_count": 234,
   "metadata": {},
   "outputs": [
    {
     "name": "stdout",
     "output_type": "stream",
     "text": [
      "<class 'pandas.core.frame.DataFrame'>\n",
      "Index: 51 entries, 0 to 57\n",
      "Data columns (total 10 columns):\n",
      " #   Column                              Non-Null Count  Dtype  \n",
      "---  ------                              --------------  -----  \n",
      " 0   Timestamp                           51 non-null     object \n",
      " 1   Age                                 47 non-null     float64\n",
      " 2   Weight                              47 non-null     float64\n",
      " 3   Height                              35 non-null     float64\n",
      " 4   Gender                              51 non-null     object \n",
      " 5   Qualities_of_a_good_student         51 non-null     object \n",
      " 6   Distance                            32 non-null     float64\n",
      " 7   Travel_Time                         30 non-null     float64\n",
      " 8   District in which your hometown is  51 non-null     object \n",
      " 9   State in which your hometown is     51 non-null     object \n",
      "dtypes: float64(5), object(5)\n",
      "memory usage: 6.4+ KB\n"
     ]
    }
   ],
   "source": [
    "df.info()"
   ]
  },
  {
   "cell_type": "markdown",
   "metadata": {},
   "source": [
    "Male vs Female "
   ]
  },
  {
   "cell_type": "code",
   "execution_count": 235,
   "metadata": {},
   "outputs": [],
   "source": [
    "gender_counts = df[\"Gender\"].value_counts()"
   ]
  },
  {
   "cell_type": "code",
   "execution_count": 236,
   "metadata": {},
   "outputs": [],
   "source": [
    "mr = gender_counts.get(\"Male\",0)/gender_counts.sum()*100\n",
    "fr = gender_counts.get(\"Female\",0)/gender_counts.sum()*100"
   ]
  },
  {
   "cell_type": "code",
   "execution_count": 237,
   "metadata": {},
   "outputs": [
    {
     "name": "stdout",
     "output_type": "stream",
     "text": [
      "Male Ratio: 70.59%\n",
      "Female Ratio: 29.41%\n"
     ]
    }
   ],
   "source": [
    "print(f\"Male Ratio: {mr:.2f}%\")\n",
    "print(f\"Female Ratio: {fr:.2f}%\")\n"
   ]
  },
  {
   "cell_type": "code",
   "execution_count": 238,
   "metadata": {},
   "outputs": [
    {
     "data": {
      "text/plain": [
       "<Axes: xlabel='Gender'>"
      ]
     },
     "execution_count": 238,
     "metadata": {},
     "output_type": "execute_result"
    },
    {
     "data": {
      "image/png": "[encoded data removed]",
      "text/plain": [
       "<Figure size 640x480 with 1 Axes>"
      ]
     },
     "metadata": {},
     "output_type": "display_data"
    }
   ],
   "source": [
    "df[\"Gender\"].value_counts().plot(kind=\"bar\", color=[\"lightblue\", \"pink\"], edgecolor=\"black\")"
   ]
  },
  {
   "cell_type": "code",
   "execution_count": 239,
   "metadata": {},
   "outputs": [],
   "source": [
    "state_mapping = {\n",
    "    'C.G': 'Chhattisgarh',\n",
    "    'Chhatisgarh': 'Chhattisgarh',\n",
    "    'Chhatisgarh': 'Chhattisgarh',\n",
    "    'Chhattishgarh': 'Chhattisgarh',\n",
    "    'Uttar pradesh': 'Uttar Pradesh',\n",
    "    'Raiypur': 'Chhattisgarh',\n",
    "    \"Chattisgarh\" : \"Chhattisgarh\",\n",
    "\n",
    " \n",
    "}"
   ]
  },
  {
   "cell_type": "code",
   "execution_count": 240,
   "metadata": {},
   "outputs": [],
   "source": [
    "df['State in which your hometown is'] = df['State in which your hometown is'].str.strip()\n",
    "df['State in which your hometown is'] = df['State in which your hometown is'].replace(state_mapping)\n",
    "\n"
   ]
  },
  {
   "cell_type": "code",
   "execution_count": 241,
   "metadata": {},
   "outputs": [
    {
     "data": {
      "text/plain": [
       "<Axes: xlabel='State in which your hometown is'>"
      ]
     },
     "execution_count": 241,
     "metadata": {},
     "output_type": "execute_result"
    },
    {
     "data": {
      "image/png": "[encoded data removed]",
      "text/plain": [
       "<Figure size 640x480 with 1 Axes>"
      ]
     },
     "metadata": {},
     "output_type": "display_data"
    }
   ],
   "source": [
    "df[\"State in which your hometown is\"].value_counts().plot(kind=\"bar\", color=[\"lightblue\", \"pink\",\"blue\",\"green\",\"red\",\"yellow\"], edgecolor=\"black\")"
   ]
  },
  {
   "cell_type": "code",
   "execution_count": 242,
   "metadata": {},
   "outputs": [],
   "source": [
    "a = df.groupby(\"Gender\")[\"State in which your hometown is\"].value_counts().reset_index(name=\"Count\")\n"
   ]
  },
  {
   "cell_type": "code",
   "execution_count": 243,
   "metadata": {},
   "outputs": [
    {
     "data": {
      "text/plain": [
       "<Axes: xlabel='State in which your hometown is', ylabel='Count'>"
      ]
     },
     "execution_count": 243,
     "metadata": {},
     "output_type": "execute_result"
    },
    {
     "data": {
      "image/png": "[encoded data removed]",
      "text/plain": [
       "<Figure size 640x480 with 1 Axes>"
      ]
     },
     "metadata": {},
     "output_type": "display_data"
    }
   ],
   "source": [
    "sns.barplot(x=\"State in which your hometown is\", y=\"Count\", hue=\"Gender\", data=a, palette={\"Male\": \"lightblue\", \"Female\": \"pink\"})"
   ]
  },
  {
   "cell_type": "code",
   "execution_count": 244,
   "metadata": {},
   "outputs": [
    {
     "data": {
      "text/plain": [
       "Gender  State in which your hometown is\n",
       "Female  Chhattisgarh                       10\n",
       "        Bihar                               2\n",
       "        Assam                               1\n",
       "        Jharkhand                           1\n",
       "        Karnataka                           1\n",
       "Male    Chhattisgarh                       19\n",
       "        Bihar                              12\n",
       "        Jharkhand                           4\n",
       "        Uttar Pradesh                       1\n",
       "Name: count, dtype: int64"
      ]
     },
     "execution_count": 244,
     "metadata": {},
     "output_type": "execute_result"
    }
   ],
   "source": [
    "df.groupby(\"Gender\")[\"State in which your hometown is\"].value_counts()"
   ]
  },
  {
   "cell_type": "code",
   "execution_count": 245,
   "metadata": {},
   "outputs": [
    {
     "data": {
      "text/html": [
       "<div>\n",
       "<style scoped>\n",
       "    .dataframe tbody tr th:only-of-type {\n",
       "        vertical-align: middle;\n",
       "    }\n",
       "\n",
       "    .dataframe tbody tr th {\n",
       "        vertical-align: top;\n",
       "    }\n",
       "\n",
       "    .dataframe thead th {\n",
       "        text-align: right;\n",
       "    }\n",
       "</style>\n",
       "<table border=\"1\" class=\"dataframe\">\n",
       "  <thead>\n",
       "    <tr style=\"text-align: right;\">\n",
       "      <th></th>\n",
       "      <th>Gender</th>\n",
       "      <th>State in which your hometown is</th>\n",
       "      <th>Count</th>\n",
       "    </tr>\n",
       "  </thead>\n",
       "  <tbody>\n",
       "    <tr>\n",
       "      <th>0</th>\n",
       "      <td>Female</td>\n",
       "      <td>Chhattisgarh</td>\n",
       "      <td>10</td>\n",
       "    </tr>\n",
       "    <tr>\n",
       "      <th>1</th>\n",
       "      <td>Female</td>\n",
       "      <td>Bihar</td>\n",
       "      <td>2</td>\n",
       "    </tr>\n",
       "    <tr>\n",
       "      <th>2</th>\n",
       "      <td>Female</td>\n",
       "      <td>Assam</td>\n",
       "      <td>1</td>\n",
       "    </tr>\n",
       "    <tr>\n",
       "      <th>3</th>\n",
       "      <td>Female</td>\n",
       "      <td>Jharkhand</td>\n",
       "      <td>1</td>\n",
       "    </tr>\n",
       "    <tr>\n",
       "      <th>4</th>\n",
       "      <td>Female</td>\n",
       "      <td>Karnataka</td>\n",
       "      <td>1</td>\n",
       "    </tr>\n",
       "    <tr>\n",
       "      <th>5</th>\n",
       "      <td>Male</td>\n",
       "      <td>Chhattisgarh</td>\n",
       "      <td>19</td>\n",
       "    </tr>\n",
       "    <tr>\n",
       "      <th>6</th>\n",
       "      <td>Male</td>\n",
       "      <td>Bihar</td>\n",
       "      <td>12</td>\n",
       "    </tr>\n",
       "    <tr>\n",
       "      <th>7</th>\n",
       "      <td>Male</td>\n",
       "      <td>Jharkhand</td>\n",
       "      <td>4</td>\n",
       "    </tr>\n",
       "    <tr>\n",
       "      <th>8</th>\n",
       "      <td>Male</td>\n",
       "      <td>Uttar Pradesh</td>\n",
       "      <td>1</td>\n",
       "    </tr>\n",
       "  </tbody>\n",
       "</table>\n",
       "</div>"
      ],
      "text/plain": [
       "   Gender State in which your hometown is  Count\n",
       "0  Female                    Chhattisgarh     10\n",
       "1  Female                           Bihar      2\n",
       "2  Female                           Assam      1\n",
       "3  Female                       Jharkhand      1\n",
       "4  Female                       Karnataka      1\n",
       "5    Male                    Chhattisgarh     19\n",
       "6    Male                           Bihar     12\n",
       "7    Male                       Jharkhand      4\n",
       "8    Male                   Uttar Pradesh      1"
      ]
     },
     "execution_count": 245,
     "metadata": {},
     "output_type": "execute_result"
    }
   ],
   "source": [
    " df.groupby(\"Gender\")[\"State in which your hometown is\"].value_counts().reset_index(name=\"Count\")\n",
    "# reset_index() converts the Series/Multi index to a DataFrame with a default integer index"
   ]
  },
  {
   "cell_type": "code",
   "execution_count": 246,
   "metadata": {},
   "outputs": [
    {
     "data": {
      "text/plain": [
       "Index(['Timestamp', 'Age', 'Weight', 'Height', 'Gender',\n",
       "       'Qualities_of_a_good_student', 'Distance', 'Travel_Time',\n",
       "       'District in which your hometown is',\n",
       "       'State in which your hometown is'],\n",
       "      dtype='object')"
      ]
     },
     "execution_count": 246,
     "metadata": {},
     "output_type": "execute_result"
    }
   ],
   "source": [
    "df.columns"
   ]
  },
  {
   "cell_type": "code",
   "execution_count": 247,
   "metadata": {},
   "outputs": [
    {
     "data": {
      "text/plain": [
       "np.int64(0)"
      ]
     },
     "execution_count": 247,
     "metadata": {},
     "output_type": "execute_result"
    }
   ],
   "source": [
    "df.duplicated().sum()"
   ]
  },
  {
   "cell_type": "code",
   "execution_count": 250,
   "metadata": {},
   "outputs": [
    {
     "data": {
      "text/plain": [
       "array([[<Axes: title={'center': 'Age'}>,\n",
       "        <Axes: title={'center': 'Weight'}>],\n",
       "       [<Axes: title={'center': 'Height'}>,\n",
       "        <Axes: title={'center': 'Distance'}>],\n",
       "       [<Axes: title={'center': 'Travel_Time'}>, <Axes: >]], dtype=object)"
      ]
     },
     "execution_count": 250,
     "metadata": {},
     "output_type": "execute_result"
    },
    {
     "data": {
      "image/png": "[encoded data removed]",
      "text/plain": [
       "<Figure size 2000x1500 with 6 Axes>"
      ]
     },
     "metadata": {},
     "output_type": "display_data"
    }
   ],
   "source": [
    "df[num_cols].hist(bins = 20,figsize = (20, 15), color = \"blue\", edgecolor = \"black\", alpha = 0.7)"
   ]
  },
  {
   "cell_type": "code",
   "execution_count": 253,
   "metadata": {},
   "outputs": [
    {
     "data": {
      "text/plain": [
       "0     A excellent student demonstrates attributes su...\n",
       "2     A good student is disciplined, hardworking and...\n",
       "3     Good students should be disciplined, Attentive...\n",
       "4     A good student is disciplined, curious, and ha...\n",
       "5     A good student must have discipline in their l...\n",
       "6     Good students who follows the rules . Maintena...\n",
       "7     An ideal student has certain qualities like be...\n",
       "8     A good school has well-experienced teachers an...\n",
       "9     A good student possesses qualities such as dis...\n",
       "11    good students always work smarts,punctual with...\n",
       "13    A good student is hardworking, disciplined, an...\n",
       "15    Good quality students possess a combination of...\n",
       "16    A good student possesses a combination of qual...\n",
       "17    Respective, attentive n alwys follows the inst...\n",
       "18    \\nA good student should be consistent working,...\n",
       "19    A good student is disciplined, hardworking, an...\n",
       "20    Discipline, good humour respect everyones have...\n",
       "21    A student is said to be good, if it persue the...\n",
       "22    A good student have to be punctual for time ,w...\n",
       "24    A good student demonstrates strong academic pe...\n",
       "25    A good student is disciplined, hardworking, an...\n",
       "26    A good student is disciplined, curious and har...\n",
       "27    Always on time\\nFollows schedule \\nClear goal\\...\n",
       "28    A good student is disciplined, responsible, an...\n",
       "29                                           Discipline\n",
       "30    A students must be discipline in all fields \\n...\n",
       "31    Good Students are someone who follow all the i...\n",
       "32    A good student should have several essential q...\n",
       "33    A good student possesses a combination of dedi...\n",
       "34    A good student is disciplined, attentive, and ...\n",
       "35    A good student possesses qualities such as dis...\n",
       "36    A good student possesses qualities such as cur...\n",
       "37     A good student possesses a combination of qua...\n",
       "38    A good student is disciplined, hardworking, an...\n",
       "39    A good student is responsible, hardworking, an...\n",
       "40    A good student possesses qualities such as ded...\n",
       "41    Good quality students are disciplined, hardwor...\n",
       "42    A good student is disciplined, responsible, an...\n",
       "43    A good student possesses a combination of qual...\n",
       "44    A good student possesses a combination of qual...\n",
       "47    A good student is disciplined, responsible, an...\n",
       "48    A good student possesses qualities such as ded...\n",
       "49    Open to learn new skills and maintain discipli...\n",
       "50    A good students should be passionate and obedi...\n",
       "51    I am a good student because I go to college ev...\n",
       "52    A good student is disciplined, responsible, an...\n",
       "53    Good students take ownership of their learning...\n",
       "54    A good student possesses qualities like:\\n\\n- ...\n",
       "55    I am an active listener , fast learner , hard ...\n",
       "56    The qualities of a good student are:\\n1. He/sh...\n",
       "57    A good student is curious, enthusiastic, and m...\n",
       "Name: Qualities_of_a_good_student, dtype: object"
      ]
     },
     "execution_count": 253,
     "metadata": {},
     "output_type": "execute_result"
    }
   ],
   "source": [
    "df[\"Qualities_of_a_good_student\"]"
   ]
  },
  {
   "cell_type": "markdown",
   "metadata": {},
   "source": [
    "# Calculating frequency of word using counter"
   ]
  },
  {
   "cell_type": "code",
   "execution_count": 346,
   "metadata": {},
   "outputs": [],
   "source": [
    "from collections import Counter"
   ]
  },
  {
   "cell_type": "code",
   "execution_count": 347,
   "metadata": {},
   "outputs": [],
   "source": [
    "all_text = \" \".join(df[\"Qualities_of_a_good_student\"])  # Join all text into a single string"
   ]
  },
  {
   "cell_type": "code",
   "execution_count": 348,
   "metadata": {},
   "outputs": [],
   "source": [
    "words = all_text.split()  # Split the string into words"
   ]
  },
  {
   "cell_type": "code",
   "execution_count": 349,
   "metadata": {},
   "outputs": [],
   "source": [
    "word_freq = Counter(words)  # Count the frequency of each word"
   ]
  },
  {
   "cell_type": "code",
   "execution_count": 350,
   "metadata": {},
   "outputs": [],
   "source": [
    "word_freq_df = pd.DataFrame(word_freq.items(), columns=[\"Word\", \"Frequency\"])  # Convert to DataFrame"
   ]
  },
  {
   "cell_type": "code",
   "execution_count": 351,
   "metadata": {},
   "outputs": [],
   "source": [
    "word_freq_df = word_freq_df.sort_values(by=\"Frequency\", ascending=False)  # Sort by frequency"
   ]
  },
  {
   "cell_type": "code",
   "execution_count": 352,
   "metadata": {},
   "outputs": [
    {
     "data": {
      "text/html": [
       "<div>\n",
       "<style scoped>\n",
       "    .dataframe tbody tr th:only-of-type {\n",
       "        vertical-align: middle;\n",
       "    }\n",
       "\n",
       "    .dataframe tbody tr th {\n",
       "        vertical-align: top;\n",
       "    }\n",
       "\n",
       "    .dataframe thead th {\n",
       "        text-align: right;\n",
       "    }\n",
       "</style>\n",
       "<table border=\"1\" class=\"dataframe\">\n",
       "  <thead>\n",
       "    <tr style=\"text-align: right;\">\n",
       "      <th></th>\n",
       "      <th>Word</th>\n",
       "      <th>Frequency</th>\n",
       "    </tr>\n",
       "  </thead>\n",
       "  <tbody>\n",
       "    <tr>\n",
       "      <th>9</th>\n",
       "      <td>and</td>\n",
       "      <td>237</td>\n",
       "    </tr>\n",
       "    <tr>\n",
       "      <th>0</th>\n",
       "      <td>a</td>\n",
       "      <td>105</td>\n",
       "    </tr>\n",
       "    <tr>\n",
       "      <th>16</th>\n",
       "      <td>to</td>\n",
       "      <td>98</td>\n",
       "    </tr>\n",
       "    <tr>\n",
       "      <th>11</th>\n",
       "      <td>they</td>\n",
       "      <td>86</td>\n",
       "    </tr>\n",
       "    <tr>\n",
       "      <th>43</th>\n",
       "      <td>good</td>\n",
       "      <td>84</td>\n",
       "    </tr>\n",
       "    <tr>\n",
       "      <th>...</th>\n",
       "      <td>...</td>\n",
       "      <td>...</td>\n",
       "    </tr>\n",
       "    <tr>\n",
       "      <th>675</th>\n",
       "      <td>7.</td>\n",
       "      <td>1</td>\n",
       "    </tr>\n",
       "    <tr>\n",
       "      <th>674</th>\n",
       "      <td>bothers</td>\n",
       "      <td>1</td>\n",
       "    </tr>\n",
       "    <tr>\n",
       "      <th>673</th>\n",
       "      <td>least</td>\n",
       "      <td>1</td>\n",
       "    </tr>\n",
       "    <tr>\n",
       "      <th>672</th>\n",
       "      <td>etc.</td>\n",
       "      <td>1</td>\n",
       "    </tr>\n",
       "    <tr>\n",
       "      <th>14</th>\n",
       "      <td>continually</td>\n",
       "      <td>1</td>\n",
       "    </tr>\n",
       "  </tbody>\n",
       "</table>\n",
       "<p>693 rows × 2 columns</p>\n",
       "</div>"
      ],
      "text/plain": [
       "            Word  Frequency\n",
       "9            and        237\n",
       "0              a        105\n",
       "16            to         98\n",
       "11          they         86\n",
       "43          good         84\n",
       "..           ...        ...\n",
       "675           7.          1\n",
       "674      bothers          1\n",
       "673        least          1\n",
       "672         etc.          1\n",
       "14   continually          1\n",
       "\n",
       "[693 rows x 2 columns]"
      ]
     },
     "execution_count": 352,
     "metadata": {},
     "output_type": "execute_result"
    }
   ],
   "source": [
    "word_freq_df"
   ]
  },
  {
   "cell_type": "code",
   "execution_count": 353,
   "metadata": {},
   "outputs": [],
   "source": [
    "top_words = word_freq_df.nlargest(10, 'Frequency')"
   ]
  },
  {
   "cell_type": "code",
   "execution_count": 354,
   "metadata": {},
   "outputs": [
    {
     "name": "stderr",
     "output_type": "stream",
     "text": [
      "C:\\Users\\Akshat\\AppData\\Local\\Temp\\ipykernel_9496\\4048284567.py:1: FutureWarning: \n",
      "\n",
      "Passing `palette` without assigning `hue` is deprecated and will be removed in v0.14.0. Assign the `y` variable to `hue` and set `legend=False` for the same effect.\n",
      "\n",
      "  sns.barplot(x='Frequency', y='Word', data=top_words, palette='viridis')\n"
     ]
    },
    {
     "data": {
      "text/plain": [
       "<Axes: xlabel='Frequency', ylabel='Word'>"
      ]
     },
     "execution_count": 354,
     "metadata": {},
     "output_type": "execute_result"
    },
    {
     "data": {
      "image/png": "[encoded data removed]",
      "text/plain": [
       "<Figure size 640x480 with 1 Axes>"
      ]
     },
     "metadata": {},
     "output_type": "display_data"
    }
   ],
   "source": [
    "sns.barplot(x='Frequency', y='Word', data=top_words, palette='viridis')"
   ]
  },
  {
   "cell_type": "markdown",
   "metadata": {},
   "source": [
    "# To remove stop words we use CountVectorizer"
   ]
  },
  {
   "cell_type": "code",
   "execution_count": 357,
   "metadata": {},
   "outputs": [
    {
     "name": "stdout",
     "output_type": "stream",
     "text": [
      "[('good', np.int64(86)), ('student', np.int64(65)), ('time', np.int64(47)), ('learn', np.int64(31)), ('students', np.int64(28)), ('qualities', np.int64(26)), ('teachers', np.int64(24)), ('disciplined', np.int64(23)), ('class', np.int64(22)), ('actively', np.int64(20))]\n"
     ]
    }
   ],
   "source": [
    "from sklearn.feature_extraction.text import CountVectorizer\n",
    "\n",
    "vectorizer = CountVectorizer(stop_words='english')  # Removes common English stop words\n",
    "word_matrix = vectorizer.fit_transform(df['Qualities_of_a_good_student'])  # Replace with your column name\n",
    "\n",
    "# Get words and their counts\n",
    "word_freqq = dict(zip(vectorizer.get_feature_names_out(), word_matrix.toarray().sum(axis=0)))\n",
    "\n",
    "# Print top words\n",
    "print(Counter(word_freqq).most_common(10))\n"
   ]
  },
  {
   "cell_type": "code",
   "execution_count": 360,
   "metadata": {},
   "outputs": [],
   "source": [
    "word_freqq_df = pd.DataFrame(word_freqq.items(), columns=[\"Word\", \"Frequency\"])  # Convert to DataFrame"
   ]
  },
  {
   "cell_type": "code",
   "execution_count": 363,
   "metadata": {},
   "outputs": [],
   "source": [
    "word_freqq_df = word_freqq_df.sort_values(by=\"Frequency\", ascending=False)  # Sort by frequency\n",
    "\n",
    "top_words1 = word_freqq_df.nlargest(10, 'Frequency')"
   ]
  },
  {
   "cell_type": "code",
   "execution_count": 365,
   "metadata": {},
   "outputs": [
    {
     "name": "stderr",
     "output_type": "stream",
     "text": [
      "C:\\Users\\Akshat\\AppData\\Local\\Temp\\ipykernel_9496\\428272902.py:1: FutureWarning: \n",
      "\n",
      "Passing `palette` without assigning `hue` is deprecated and will be removed in v0.14.0. Assign the `y` variable to `hue` and set `legend=False` for the same effect.\n",
      "\n",
      "  sns.barplot(x='Frequency', y='Word', data=top_words1, palette='viridis')\n"
     ]
    },
    {
     "data": {
      "text/plain": [
       "<Axes: xlabel='Frequency', ylabel='Word'>"
      ]
     },
     "execution_count": 365,
     "metadata": {},
     "output_type": "execute_result"
    },
    {
     "data": {
      "image/png": "[encoded data removed]",
      "text/plain": [
       "<Figure size 640x480 with 1 Axes>"
      ]
     },
     "metadata": {},
     "output_type": "display_data"
    }
   ],
   "source": [
    "sns.barplot(x='Frequency', y='Word', data=top_words1, palette='viridis')"
   ]
  },
  {
   "cell_type": "code",
   "execution_count": null,
   "metadata": {},
   "outputs": [],
   "source": []
  }
 ],
 "metadata": {
  "kernelspec": {
   "display_name": ".venv",
   "language": "python",
   "name": "python3"
  },
  "language_info": {
   "codemirror_mode": {
    "name": "ipython",
    "version": 3
   },
   "file_extension": ".py",
   "mimetype": "text/x-python",
   "name": "python",
   "nbconvert_exporter": "python",
   "pygments_lexer": "ipython3",
   "version": "3.13.1"
  }
 },
 "nbformat": 4,
 "nbformat_minor": 2
}
